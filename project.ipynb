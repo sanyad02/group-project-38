{
 "cells": [
  {
   "cell_type": "markdown",
   "metadata": {},
   "source": [
    "Title: User Modeling System"
   ]
  },
  {
   "cell_type": "markdown",
   "metadata": {},
   "source": [
    "Introduction"
   ]
  },
  {
   "cell_type": "markdown",
   "metadata": {},
   "source": [
    "Data modeling is one of the most powerful tools to analyze data and draw meaningful conclusions from it. To score well on a test, it is important that we use a method of study which has historically and scientifically been proven efficient. Is it better to study one night before the exam for an extended period of time or to distribute study sessions in intervals of 30-40 minutes over a couple of days?\n",
    "\n",
    " We use the data set “uns_datatable.xls” which consists of students’ educational features such as study time, repetitions, exam performance in current and pre-requisite courses, etc. The goal is to establish a relationship between a student’s educational habits and conceptual understanding. \n"
   ]
  },
  {
   "cell_type": "markdown",
   "metadata": {},
   "source": [
    "Preliminary exploratory data analysis:"
   ]
  },
  {
   "cell_type": "markdown",
   "metadata": {},
   "source": [
    "Methods:"
   ]
  },
  {
   "cell_type": "markdown",
   "metadata": {},
   "source": [
    "Expected outcomes and significance:"
   ]
  },
  {
   "cell_type": "markdown",
   "metadata": {},
   "source": [
    "First, we needed to import all of the libraries required for the research of our project:"
   ]
  },
  {
   "cell_type": "code",
   "execution_count": 48,
   "metadata": {},
   "outputs": [],
   "source": [
    "library(tidyverse)\n",
    "library(repr)\n",
    "library(tidymodels)\n",
    "library(readxl)"
   ]
  },
  {
   "cell_type": "markdown",
   "metadata": {},
   "source": [
    "Now we need to read in the required data, and wrangle it into a usable format. To do this, we need to first only read the first six columns, as the later columns are explanations of what the variable are and aren't actual data entries themselves. Also we only wish to use the training data "
   ]
  },
  {
   "cell_type": "code",
   "execution_count": 49,
   "metadata": {},
   "outputs": [],
   "source": [
    "knowledge <- read_excel(\"data/uns_datatable.xls\", sheet = \"Training_Data\", range = cell_cols(\"A:F\"))"
   ]
  },
  {
   "cell_type": "markdown",
   "metadata": {},
   "source": [
    "To further wrangle our data into a usable format, we wish to convert the last row, with only a limited number of possible options, to a factor."
   ]
  },
  {
   "cell_type": "code",
   "execution_count": 79,
   "metadata": {},
   "outputs": [
    {
     "data": {
      "text/html": [
       "<table>\n",
       "<caption>A tibble: 258 × 6</caption>\n",
       "<thead>\n",
       "\t<tr><th scope=col>STG</th><th scope=col>SCG</th><th scope=col>STR</th><th scope=col>LPR</th><th scope=col>PEG</th><th scope=col>UNS</th></tr>\n",
       "\t<tr><th scope=col>&lt;dbl&gt;</th><th scope=col>&lt;dbl&gt;</th><th scope=col>&lt;dbl&gt;</th><th scope=col>&lt;dbl&gt;</th><th scope=col>&lt;dbl&gt;</th><th scope=col>&lt;fct&gt;</th></tr>\n",
       "</thead>\n",
       "<tbody>\n",
       "\t<tr><td>0.00</td><td>0.000</td><td>0.00</td><td>0.00</td><td>0.00</td><td>very_low</td></tr>\n",
       "\t<tr><td>0.08</td><td>0.080</td><td>0.10</td><td>0.24</td><td>0.90</td><td>High    </td></tr>\n",
       "\t<tr><td>0.06</td><td>0.060</td><td>0.05</td><td>0.25</td><td>0.33</td><td>Low     </td></tr>\n",
       "\t<tr><td>0.10</td><td>0.100</td><td>0.15</td><td>0.65</td><td>0.30</td><td>Middle  </td></tr>\n",
       "\t<tr><td>0.08</td><td>0.080</td><td>0.08</td><td>0.98</td><td>0.24</td><td>Low     </td></tr>\n",
       "\t<tr><td>0.09</td><td>0.150</td><td>0.40</td><td>0.10</td><td>0.66</td><td>Middle  </td></tr>\n",
       "\t<tr><td>0.10</td><td>0.100</td><td>0.43</td><td>0.29</td><td>0.56</td><td>Middle  </td></tr>\n",
       "\t<tr><td>0.15</td><td>0.020</td><td>0.34</td><td>0.40</td><td>0.01</td><td>very_low</td></tr>\n",
       "\t<tr><td>0.20</td><td>0.140</td><td>0.35</td><td>0.72</td><td>0.25</td><td>Low     </td></tr>\n",
       "\t<tr><td>0.00</td><td>0.000</td><td>0.50</td><td>0.20</td><td>0.85</td><td>High    </td></tr>\n",
       "\t<tr><td>0.18</td><td>0.180</td><td>0.55</td><td>0.30</td><td>0.81</td><td>High    </td></tr>\n",
       "\t<tr><td>0.06</td><td>0.060</td><td>0.51</td><td>0.41</td><td>0.30</td><td>Low     </td></tr>\n",
       "\t<tr><td>0.10</td><td>0.100</td><td>0.52</td><td>0.78</td><td>0.34</td><td>Middle  </td></tr>\n",
       "\t<tr><td>0.10</td><td>0.100</td><td>0.70</td><td>0.15</td><td>0.90</td><td>High    </td></tr>\n",
       "\t<tr><td>0.20</td><td>0.200</td><td>0.70</td><td>0.30</td><td>0.60</td><td>Middle  </td></tr>\n",
       "\t<tr><td>0.12</td><td>0.120</td><td>0.75</td><td>0.35</td><td>0.80</td><td>High    </td></tr>\n",
       "\t<tr><td>0.05</td><td>0.070</td><td>0.70</td><td>0.01</td><td>0.05</td><td>very_low</td></tr>\n",
       "\t<tr><td>0.10</td><td>0.250</td><td>0.10</td><td>0.08</td><td>0.33</td><td>Low     </td></tr>\n",
       "\t<tr><td>0.15</td><td>0.320</td><td>0.05</td><td>0.27</td><td>0.29</td><td>Low     </td></tr>\n",
       "\t<tr><td>0.20</td><td>0.290</td><td>0.25</td><td>0.49</td><td>0.56</td><td>Middle  </td></tr>\n",
       "\t<tr><td>0.12</td><td>0.280</td><td>0.20</td><td>0.78</td><td>0.20</td><td>Low     </td></tr>\n",
       "\t<tr><td>0.18</td><td>0.300</td><td>0.37</td><td>0.12</td><td>0.66</td><td>Middle  </td></tr>\n",
       "\t<tr><td>0.10</td><td>0.270</td><td>0.31</td><td>0.29</td><td>0.65</td><td>Middle  </td></tr>\n",
       "\t<tr><td>0.18</td><td>0.310</td><td>0.32</td><td>0.42</td><td>0.28</td><td>Low     </td></tr>\n",
       "\t<tr><td>0.06</td><td>0.290</td><td>0.35</td><td>0.76</td><td>0.25</td><td>Low     </td></tr>\n",
       "\t<tr><td>0.09</td><td>0.300</td><td>0.68</td><td>0.18</td><td>0.85</td><td>High    </td></tr>\n",
       "\t<tr><td>0.04</td><td>0.280</td><td>0.55</td><td>0.25</td><td>0.10</td><td>very_low</td></tr>\n",
       "\t<tr><td>0.09</td><td>0.255</td><td>0.60</td><td>0.45</td><td>0.25</td><td>Low     </td></tr>\n",
       "\t<tr><td>0.08</td><td>0.325</td><td>0.62</td><td>0.94</td><td>0.56</td><td>High    </td></tr>\n",
       "\t<tr><td>0.15</td><td>0.275</td><td>0.80</td><td>0.21</td><td>0.81</td><td>High    </td></tr>\n",
       "\t<tr><td>⋮</td><td>⋮</td><td>⋮</td><td>⋮</td><td>⋮</td><td>⋮</td></tr>\n",
       "\t<tr><td>0.880</td><td>0.335</td><td>0.19</td><td>0.55</td><td>0.78</td><td>High  </td></tr>\n",
       "\t<tr><td>0.990</td><td>0.490</td><td>0.07</td><td>0.70</td><td>0.69</td><td>High  </td></tr>\n",
       "\t<tr><td>0.730</td><td>0.430</td><td>0.32</td><td>0.12</td><td>0.65</td><td>Middle</td></tr>\n",
       "\t<tr><td>0.610</td><td>0.330</td><td>0.36</td><td>0.28</td><td>0.28</td><td>Low   </td></tr>\n",
       "\t<tr><td>0.510</td><td>0.400</td><td>0.40</td><td>0.59</td><td>0.23</td><td>Low   </td></tr>\n",
       "\t<tr><td>0.830</td><td>0.440</td><td>0.49</td><td>0.91</td><td>0.66</td><td>High  </td></tr>\n",
       "\t<tr><td>0.660</td><td>0.380</td><td>0.55</td><td>0.15</td><td>0.62</td><td>Middle</td></tr>\n",
       "\t<tr><td>0.580</td><td>0.350</td><td>0.51</td><td>0.27</td><td>0.30</td><td>Low   </td></tr>\n",
       "\t<tr><td>0.523</td><td>0.410</td><td>0.55</td><td>0.60</td><td>0.22</td><td>Low   </td></tr>\n",
       "\t<tr><td>0.660</td><td>0.360</td><td>0.56</td><td>0.40</td><td>0.83</td><td>High  </td></tr>\n",
       "\t<tr><td>0.620</td><td>0.370</td><td>0.81</td><td>0.13</td><td>0.64</td><td>Middle</td></tr>\n",
       "\t<tr><td>0.520</td><td>0.440</td><td>0.82</td><td>0.30</td><td>0.52</td><td>Middle</td></tr>\n",
       "\t<tr><td>0.500</td><td>0.400</td><td>0.73</td><td>0.62</td><td>0.20</td><td>Low   </td></tr>\n",
       "\t<tr><td>0.710</td><td>0.460</td><td>0.95</td><td>0.78</td><td>0.86</td><td>High  </td></tr>\n",
       "\t<tr><td>0.640</td><td>0.550</td><td>0.15</td><td>0.18</td><td>0.63</td><td>Middle</td></tr>\n",
       "\t<tr><td>0.520</td><td>0.850</td><td>0.06</td><td>0.27</td><td>0.25</td><td>Low   </td></tr>\n",
       "\t<tr><td>0.620</td><td>0.620</td><td>0.24</td><td>0.65</td><td>0.25</td><td>Middle</td></tr>\n",
       "\t<tr><td>0.910</td><td>0.580</td><td>0.26</td><td>0.89</td><td>0.88</td><td>High  </td></tr>\n",
       "\t<tr><td>0.620</td><td>0.670</td><td>0.39</td><td>0.10</td><td>0.66</td><td>Middle</td></tr>\n",
       "\t<tr><td>0.580</td><td>0.580</td><td>0.31</td><td>0.29</td><td>0.29</td><td>Low   </td></tr>\n",
       "\t<tr><td>0.890</td><td>0.680</td><td>0.49</td><td>0.65</td><td>0.90</td><td>High  </td></tr>\n",
       "\t<tr><td>0.720</td><td>0.600</td><td>0.45</td><td>0.79</td><td>0.45</td><td>Middle</td></tr>\n",
       "\t<tr><td>0.680</td><td>0.630</td><td>0.65</td><td>0.09</td><td>0.66</td><td>Middle</td></tr>\n",
       "\t<tr><td>0.560</td><td>0.600</td><td>0.60</td><td>0.31</td><td>0.50</td><td>Middle</td></tr>\n",
       "\t<tr><td>0.540</td><td>0.510</td><td>0.55</td><td>0.64</td><td>0.19</td><td>Low   </td></tr>\n",
       "\t<tr><td>0.610</td><td>0.780</td><td>0.69</td><td>0.92</td><td>0.58</td><td>High  </td></tr>\n",
       "\t<tr><td>0.780</td><td>0.610</td><td>0.71</td><td>0.19</td><td>0.60</td><td>Middle</td></tr>\n",
       "\t<tr><td>0.540</td><td>0.820</td><td>0.71</td><td>0.29</td><td>0.77</td><td>High  </td></tr>\n",
       "\t<tr><td>0.500</td><td>0.750</td><td>0.81</td><td>0.61</td><td>0.26</td><td>Middle</td></tr>\n",
       "\t<tr><td>0.660</td><td>0.900</td><td>0.76</td><td>0.87</td><td>0.74</td><td>High  </td></tr>\n",
       "</tbody>\n",
       "</table>\n"
      ],
      "text/latex": [
       "A tibble: 258 × 6\n",
       "\\begin{tabular}{llllll}\n",
       " STG & SCG & STR & LPR & PEG & UNS\\\\\n",
       " <dbl> & <dbl> & <dbl> & <dbl> & <dbl> & <fct>\\\\\n",
       "\\hline\n",
       "\t 0.00 & 0.000 & 0.00 & 0.00 & 0.00 & very\\_low\\\\\n",
       "\t 0.08 & 0.080 & 0.10 & 0.24 & 0.90 & High    \\\\\n",
       "\t 0.06 & 0.060 & 0.05 & 0.25 & 0.33 & Low     \\\\\n",
       "\t 0.10 & 0.100 & 0.15 & 0.65 & 0.30 & Middle  \\\\\n",
       "\t 0.08 & 0.080 & 0.08 & 0.98 & 0.24 & Low     \\\\\n",
       "\t 0.09 & 0.150 & 0.40 & 0.10 & 0.66 & Middle  \\\\\n",
       "\t 0.10 & 0.100 & 0.43 & 0.29 & 0.56 & Middle  \\\\\n",
       "\t 0.15 & 0.020 & 0.34 & 0.40 & 0.01 & very\\_low\\\\\n",
       "\t 0.20 & 0.140 & 0.35 & 0.72 & 0.25 & Low     \\\\\n",
       "\t 0.00 & 0.000 & 0.50 & 0.20 & 0.85 & High    \\\\\n",
       "\t 0.18 & 0.180 & 0.55 & 0.30 & 0.81 & High    \\\\\n",
       "\t 0.06 & 0.060 & 0.51 & 0.41 & 0.30 & Low     \\\\\n",
       "\t 0.10 & 0.100 & 0.52 & 0.78 & 0.34 & Middle  \\\\\n",
       "\t 0.10 & 0.100 & 0.70 & 0.15 & 0.90 & High    \\\\\n",
       "\t 0.20 & 0.200 & 0.70 & 0.30 & 0.60 & Middle  \\\\\n",
       "\t 0.12 & 0.120 & 0.75 & 0.35 & 0.80 & High    \\\\\n",
       "\t 0.05 & 0.070 & 0.70 & 0.01 & 0.05 & very\\_low\\\\\n",
       "\t 0.10 & 0.250 & 0.10 & 0.08 & 0.33 & Low     \\\\\n",
       "\t 0.15 & 0.320 & 0.05 & 0.27 & 0.29 & Low     \\\\\n",
       "\t 0.20 & 0.290 & 0.25 & 0.49 & 0.56 & Middle  \\\\\n",
       "\t 0.12 & 0.280 & 0.20 & 0.78 & 0.20 & Low     \\\\\n",
       "\t 0.18 & 0.300 & 0.37 & 0.12 & 0.66 & Middle  \\\\\n",
       "\t 0.10 & 0.270 & 0.31 & 0.29 & 0.65 & Middle  \\\\\n",
       "\t 0.18 & 0.310 & 0.32 & 0.42 & 0.28 & Low     \\\\\n",
       "\t 0.06 & 0.290 & 0.35 & 0.76 & 0.25 & Low     \\\\\n",
       "\t 0.09 & 0.300 & 0.68 & 0.18 & 0.85 & High    \\\\\n",
       "\t 0.04 & 0.280 & 0.55 & 0.25 & 0.10 & very\\_low\\\\\n",
       "\t 0.09 & 0.255 & 0.60 & 0.45 & 0.25 & Low     \\\\\n",
       "\t 0.08 & 0.325 & 0.62 & 0.94 & 0.56 & High    \\\\\n",
       "\t 0.15 & 0.275 & 0.80 & 0.21 & 0.81 & High    \\\\\n",
       "\t ⋮ & ⋮ & ⋮ & ⋮ & ⋮ & ⋮\\\\\n",
       "\t 0.880 & 0.335 & 0.19 & 0.55 & 0.78 & High  \\\\\n",
       "\t 0.990 & 0.490 & 0.07 & 0.70 & 0.69 & High  \\\\\n",
       "\t 0.730 & 0.430 & 0.32 & 0.12 & 0.65 & Middle\\\\\n",
       "\t 0.610 & 0.330 & 0.36 & 0.28 & 0.28 & Low   \\\\\n",
       "\t 0.510 & 0.400 & 0.40 & 0.59 & 0.23 & Low   \\\\\n",
       "\t 0.830 & 0.440 & 0.49 & 0.91 & 0.66 & High  \\\\\n",
       "\t 0.660 & 0.380 & 0.55 & 0.15 & 0.62 & Middle\\\\\n",
       "\t 0.580 & 0.350 & 0.51 & 0.27 & 0.30 & Low   \\\\\n",
       "\t 0.523 & 0.410 & 0.55 & 0.60 & 0.22 & Low   \\\\\n",
       "\t 0.660 & 0.360 & 0.56 & 0.40 & 0.83 & High  \\\\\n",
       "\t 0.620 & 0.370 & 0.81 & 0.13 & 0.64 & Middle\\\\\n",
       "\t 0.520 & 0.440 & 0.82 & 0.30 & 0.52 & Middle\\\\\n",
       "\t 0.500 & 0.400 & 0.73 & 0.62 & 0.20 & Low   \\\\\n",
       "\t 0.710 & 0.460 & 0.95 & 0.78 & 0.86 & High  \\\\\n",
       "\t 0.640 & 0.550 & 0.15 & 0.18 & 0.63 & Middle\\\\\n",
       "\t 0.520 & 0.850 & 0.06 & 0.27 & 0.25 & Low   \\\\\n",
       "\t 0.620 & 0.620 & 0.24 & 0.65 & 0.25 & Middle\\\\\n",
       "\t 0.910 & 0.580 & 0.26 & 0.89 & 0.88 & High  \\\\\n",
       "\t 0.620 & 0.670 & 0.39 & 0.10 & 0.66 & Middle\\\\\n",
       "\t 0.580 & 0.580 & 0.31 & 0.29 & 0.29 & Low   \\\\\n",
       "\t 0.890 & 0.680 & 0.49 & 0.65 & 0.90 & High  \\\\\n",
       "\t 0.720 & 0.600 & 0.45 & 0.79 & 0.45 & Middle\\\\\n",
       "\t 0.680 & 0.630 & 0.65 & 0.09 & 0.66 & Middle\\\\\n",
       "\t 0.560 & 0.600 & 0.60 & 0.31 & 0.50 & Middle\\\\\n",
       "\t 0.540 & 0.510 & 0.55 & 0.64 & 0.19 & Low   \\\\\n",
       "\t 0.610 & 0.780 & 0.69 & 0.92 & 0.58 & High  \\\\\n",
       "\t 0.780 & 0.610 & 0.71 & 0.19 & 0.60 & Middle\\\\\n",
       "\t 0.540 & 0.820 & 0.71 & 0.29 & 0.77 & High  \\\\\n",
       "\t 0.500 & 0.750 & 0.81 & 0.61 & 0.26 & Middle\\\\\n",
       "\t 0.660 & 0.900 & 0.76 & 0.87 & 0.74 & High  \\\\\n",
       "\\end{tabular}\n"
      ],
      "text/markdown": [
       "\n",
       "A tibble: 258 × 6\n",
       "\n",
       "| STG &lt;dbl&gt; | SCG &lt;dbl&gt; | STR &lt;dbl&gt; | LPR &lt;dbl&gt; | PEG &lt;dbl&gt; | UNS &lt;fct&gt; |\n",
       "|---|---|---|---|---|---|\n",
       "| 0.00 | 0.000 | 0.00 | 0.00 | 0.00 | very_low |\n",
       "| 0.08 | 0.080 | 0.10 | 0.24 | 0.90 | High     |\n",
       "| 0.06 | 0.060 | 0.05 | 0.25 | 0.33 | Low      |\n",
       "| 0.10 | 0.100 | 0.15 | 0.65 | 0.30 | Middle   |\n",
       "| 0.08 | 0.080 | 0.08 | 0.98 | 0.24 | Low      |\n",
       "| 0.09 | 0.150 | 0.40 | 0.10 | 0.66 | Middle   |\n",
       "| 0.10 | 0.100 | 0.43 | 0.29 | 0.56 | Middle   |\n",
       "| 0.15 | 0.020 | 0.34 | 0.40 | 0.01 | very_low |\n",
       "| 0.20 | 0.140 | 0.35 | 0.72 | 0.25 | Low      |\n",
       "| 0.00 | 0.000 | 0.50 | 0.20 | 0.85 | High     |\n",
       "| 0.18 | 0.180 | 0.55 | 0.30 | 0.81 | High     |\n",
       "| 0.06 | 0.060 | 0.51 | 0.41 | 0.30 | Low      |\n",
       "| 0.10 | 0.100 | 0.52 | 0.78 | 0.34 | Middle   |\n",
       "| 0.10 | 0.100 | 0.70 | 0.15 | 0.90 | High     |\n",
       "| 0.20 | 0.200 | 0.70 | 0.30 | 0.60 | Middle   |\n",
       "| 0.12 | 0.120 | 0.75 | 0.35 | 0.80 | High     |\n",
       "| 0.05 | 0.070 | 0.70 | 0.01 | 0.05 | very_low |\n",
       "| 0.10 | 0.250 | 0.10 | 0.08 | 0.33 | Low      |\n",
       "| 0.15 | 0.320 | 0.05 | 0.27 | 0.29 | Low      |\n",
       "| 0.20 | 0.290 | 0.25 | 0.49 | 0.56 | Middle   |\n",
       "| 0.12 | 0.280 | 0.20 | 0.78 | 0.20 | Low      |\n",
       "| 0.18 | 0.300 | 0.37 | 0.12 | 0.66 | Middle   |\n",
       "| 0.10 | 0.270 | 0.31 | 0.29 | 0.65 | Middle   |\n",
       "| 0.18 | 0.310 | 0.32 | 0.42 | 0.28 | Low      |\n",
       "| 0.06 | 0.290 | 0.35 | 0.76 | 0.25 | Low      |\n",
       "| 0.09 | 0.300 | 0.68 | 0.18 | 0.85 | High     |\n",
       "| 0.04 | 0.280 | 0.55 | 0.25 | 0.10 | very_low |\n",
       "| 0.09 | 0.255 | 0.60 | 0.45 | 0.25 | Low      |\n",
       "| 0.08 | 0.325 | 0.62 | 0.94 | 0.56 | High     |\n",
       "| 0.15 | 0.275 | 0.80 | 0.21 | 0.81 | High     |\n",
       "| ⋮ | ⋮ | ⋮ | ⋮ | ⋮ | ⋮ |\n",
       "| 0.880 | 0.335 | 0.19 | 0.55 | 0.78 | High   |\n",
       "| 0.990 | 0.490 | 0.07 | 0.70 | 0.69 | High   |\n",
       "| 0.730 | 0.430 | 0.32 | 0.12 | 0.65 | Middle |\n",
       "| 0.610 | 0.330 | 0.36 | 0.28 | 0.28 | Low    |\n",
       "| 0.510 | 0.400 | 0.40 | 0.59 | 0.23 | Low    |\n",
       "| 0.830 | 0.440 | 0.49 | 0.91 | 0.66 | High   |\n",
       "| 0.660 | 0.380 | 0.55 | 0.15 | 0.62 | Middle |\n",
       "| 0.580 | 0.350 | 0.51 | 0.27 | 0.30 | Low    |\n",
       "| 0.523 | 0.410 | 0.55 | 0.60 | 0.22 | Low    |\n",
       "| 0.660 | 0.360 | 0.56 | 0.40 | 0.83 | High   |\n",
       "| 0.620 | 0.370 | 0.81 | 0.13 | 0.64 | Middle |\n",
       "| 0.520 | 0.440 | 0.82 | 0.30 | 0.52 | Middle |\n",
       "| 0.500 | 0.400 | 0.73 | 0.62 | 0.20 | Low    |\n",
       "| 0.710 | 0.460 | 0.95 | 0.78 | 0.86 | High   |\n",
       "| 0.640 | 0.550 | 0.15 | 0.18 | 0.63 | Middle |\n",
       "| 0.520 | 0.850 | 0.06 | 0.27 | 0.25 | Low    |\n",
       "| 0.620 | 0.620 | 0.24 | 0.65 | 0.25 | Middle |\n",
       "| 0.910 | 0.580 | 0.26 | 0.89 | 0.88 | High   |\n",
       "| 0.620 | 0.670 | 0.39 | 0.10 | 0.66 | Middle |\n",
       "| 0.580 | 0.580 | 0.31 | 0.29 | 0.29 | Low    |\n",
       "| 0.890 | 0.680 | 0.49 | 0.65 | 0.90 | High   |\n",
       "| 0.720 | 0.600 | 0.45 | 0.79 | 0.45 | Middle |\n",
       "| 0.680 | 0.630 | 0.65 | 0.09 | 0.66 | Middle |\n",
       "| 0.560 | 0.600 | 0.60 | 0.31 | 0.50 | Middle |\n",
       "| 0.540 | 0.510 | 0.55 | 0.64 | 0.19 | Low    |\n",
       "| 0.610 | 0.780 | 0.69 | 0.92 | 0.58 | High   |\n",
       "| 0.780 | 0.610 | 0.71 | 0.19 | 0.60 | Middle |\n",
       "| 0.540 | 0.820 | 0.71 | 0.29 | 0.77 | High   |\n",
       "| 0.500 | 0.750 | 0.81 | 0.61 | 0.26 | Middle |\n",
       "| 0.660 | 0.900 | 0.76 | 0.87 | 0.74 | High   |\n",
       "\n"
      ],
      "text/plain": [
       "    STG   SCG   STR  LPR  PEG  UNS     \n",
       "1   0.00  0.000 0.00 0.00 0.00 very_low\n",
       "2   0.08  0.080 0.10 0.24 0.90 High    \n",
       "3   0.06  0.060 0.05 0.25 0.33 Low     \n",
       "4   0.10  0.100 0.15 0.65 0.30 Middle  \n",
       "5   0.08  0.080 0.08 0.98 0.24 Low     \n",
       "6   0.09  0.150 0.40 0.10 0.66 Middle  \n",
       "7   0.10  0.100 0.43 0.29 0.56 Middle  \n",
       "8   0.15  0.020 0.34 0.40 0.01 very_low\n",
       "9   0.20  0.140 0.35 0.72 0.25 Low     \n",
       "10  0.00  0.000 0.50 0.20 0.85 High    \n",
       "11  0.18  0.180 0.55 0.30 0.81 High    \n",
       "12  0.06  0.060 0.51 0.41 0.30 Low     \n",
       "13  0.10  0.100 0.52 0.78 0.34 Middle  \n",
       "14  0.10  0.100 0.70 0.15 0.90 High    \n",
       "15  0.20  0.200 0.70 0.30 0.60 Middle  \n",
       "16  0.12  0.120 0.75 0.35 0.80 High    \n",
       "17  0.05  0.070 0.70 0.01 0.05 very_low\n",
       "18  0.10  0.250 0.10 0.08 0.33 Low     \n",
       "19  0.15  0.320 0.05 0.27 0.29 Low     \n",
       "20  0.20  0.290 0.25 0.49 0.56 Middle  \n",
       "21  0.12  0.280 0.20 0.78 0.20 Low     \n",
       "22  0.18  0.300 0.37 0.12 0.66 Middle  \n",
       "23  0.10  0.270 0.31 0.29 0.65 Middle  \n",
       "24  0.18  0.310 0.32 0.42 0.28 Low     \n",
       "25  0.06  0.290 0.35 0.76 0.25 Low     \n",
       "26  0.09  0.300 0.68 0.18 0.85 High    \n",
       "27  0.04  0.280 0.55 0.25 0.10 very_low\n",
       "28  0.09  0.255 0.60 0.45 0.25 Low     \n",
       "29  0.08  0.325 0.62 0.94 0.56 High    \n",
       "30  0.15  0.275 0.80 0.21 0.81 High    \n",
       "⋮   ⋮     ⋮     ⋮    ⋮    ⋮    ⋮       \n",
       "229 0.880 0.335 0.19 0.55 0.78 High    \n",
       "230 0.990 0.490 0.07 0.70 0.69 High    \n",
       "231 0.730 0.430 0.32 0.12 0.65 Middle  \n",
       "232 0.610 0.330 0.36 0.28 0.28 Low     \n",
       "233 0.510 0.400 0.40 0.59 0.23 Low     \n",
       "234 0.830 0.440 0.49 0.91 0.66 High    \n",
       "235 0.660 0.380 0.55 0.15 0.62 Middle  \n",
       "236 0.580 0.350 0.51 0.27 0.30 Low     \n",
       "237 0.523 0.410 0.55 0.60 0.22 Low     \n",
       "238 0.660 0.360 0.56 0.40 0.83 High    \n",
       "239 0.620 0.370 0.81 0.13 0.64 Middle  \n",
       "240 0.520 0.440 0.82 0.30 0.52 Middle  \n",
       "241 0.500 0.400 0.73 0.62 0.20 Low     \n",
       "242 0.710 0.460 0.95 0.78 0.86 High    \n",
       "243 0.640 0.550 0.15 0.18 0.63 Middle  \n",
       "244 0.520 0.850 0.06 0.27 0.25 Low     \n",
       "245 0.620 0.620 0.24 0.65 0.25 Middle  \n",
       "246 0.910 0.580 0.26 0.89 0.88 High    \n",
       "247 0.620 0.670 0.39 0.10 0.66 Middle  \n",
       "248 0.580 0.580 0.31 0.29 0.29 Low     \n",
       "249 0.890 0.680 0.49 0.65 0.90 High    \n",
       "250 0.720 0.600 0.45 0.79 0.45 Middle  \n",
       "251 0.680 0.630 0.65 0.09 0.66 Middle  \n",
       "252 0.560 0.600 0.60 0.31 0.50 Middle  \n",
       "253 0.540 0.510 0.55 0.64 0.19 Low     \n",
       "254 0.610 0.780 0.69 0.92 0.58 High    \n",
       "255 0.780 0.610 0.71 0.19 0.60 Middle  \n",
       "256 0.540 0.820 0.71 0.29 0.77 High    \n",
       "257 0.500 0.750 0.81 0.61 0.26 Middle  \n",
       "258 0.660 0.900 0.76 0.87 0.74 High    "
      ]
     },
     "metadata": {},
     "output_type": "display_data"
    }
   ],
   "source": [
    "knowledge <- mutate(knowledge_data_df, UNS = as_factor(UNS))\n",
    "knowledge"
   ]
  },
  {
   "cell_type": "markdown",
   "metadata": {},
   "source": [
    "Great! Now each column stores a single variable, each row stores a single observation, and each cell stores a single value. This data is tidy. The only other thing we could do is to create a quick legend to make the variable names more understandable, we will simply outline such a legend here, to be easily referred to when more readable names are required by the various visualizations in the later steps of this project."
   ]
  },
  {
   "cell_type": "markdown",
   "metadata": {},
   "source": [
    "Variable Legend:\n",
    "\n",
    "STG (The degree of study time for goal object materials)\n",
    "SCG (The degree of repetition number of user for goal object materials)\n",
    "STR (The degree of study time of user for related objects with goal object)\n",
    "LPR (The exam performance of user for related objects with goal object)\n",
    "PEG (The exam performance of user for goal objects)\n",
    "UNS (The knowledge level of user)\n",
    "     \n",
    "Within this study, based on our chosen research question, we will actually only require usage of the following variables: the study time for the objective material (STG), the degree of repitition in the studying of said material (SCG), and the knowledge level of the person (UNS)."
   ]
  },
  {
   "cell_type": "code",
   "execution_count": 80,
   "metadata": {},
   "outputs": [
    {
     "ename": "ERROR",
     "evalue": "Error in parse(text = x, srcfile = src): <text>:1:6: unexpected symbol\n1: data summary\n         ^\n",
     "output_type": "error",
     "traceback": [
      "Error in parse(text = x, srcfile = src): <text>:1:6: unexpected symbol\n1: data summary\n         ^\nTraceback:\n"
     ]
    }
   ],
   "source": [
    "data summary"
   ]
  },
  {
   "cell_type": "code",
   "execution_count": 84,
   "metadata": {},
   "outputs": [
    {
     "name": "stderr",
     "output_type": "stream",
     "text": [
      "`summarise()` ungrouping output (override with `.groups` argument)\n",
      "\n"
     ]
    },
    {
     "data": {
      "text/html": [
       "<table>\n",
       "<caption>A tibble: 4 × 3</caption>\n",
       "<thead>\n",
       "\t<tr><th scope=col>UNS</th><th scope=col>count</th><th scope=col>percentage</th></tr>\n",
       "\t<tr><th scope=col>&lt;fct&gt;</th><th scope=col>&lt;int&gt;</th><th scope=col>&lt;dbl&gt;</th></tr>\n",
       "</thead>\n",
       "<tbody>\n",
       "\t<tr><td>very_low</td><td>24</td><td> 9.302326</td></tr>\n",
       "\t<tr><td>High    </td><td>63</td><td>24.418605</td></tr>\n",
       "\t<tr><td>Low     </td><td>83</td><td>32.170543</td></tr>\n",
       "\t<tr><td>Middle  </td><td>88</td><td>34.108527</td></tr>\n",
       "</tbody>\n",
       "</table>\n"
      ],
      "text/latex": [
       "A tibble: 4 × 3\n",
       "\\begin{tabular}{lll}\n",
       " UNS & count & percentage\\\\\n",
       " <fct> & <int> & <dbl>\\\\\n",
       "\\hline\n",
       "\t very\\_low & 24 &  9.302326\\\\\n",
       "\t High     & 63 & 24.418605\\\\\n",
       "\t Low      & 83 & 32.170543\\\\\n",
       "\t Middle   & 88 & 34.108527\\\\\n",
       "\\end{tabular}\n"
      ],
      "text/markdown": [
       "\n",
       "A tibble: 4 × 3\n",
       "\n",
       "| UNS &lt;fct&gt; | count &lt;int&gt; | percentage &lt;dbl&gt; |\n",
       "|---|---|---|\n",
       "| very_low | 24 |  9.302326 |\n",
       "| High     | 63 | 24.418605 |\n",
       "| Low      | 83 | 32.170543 |\n",
       "| Middle   | 88 | 34.108527 |\n",
       "\n"
      ],
      "text/plain": [
       "  UNS      count percentage\n",
       "1 very_low 24     9.302326 \n",
       "2 High     63    24.418605 \n",
       "3 Low      83    32.170543 \n",
       "4 Middle   88    34.108527 "
      ]
     },
     "metadata": {},
     "output_type": "display_data"
    }
   ],
   "source": [
    "# knowledge_data_df %>% \n",
    "# group_by(UNS) %>% \n",
    "# summarize(n = n())\n",
    "\n",
    "know_count <- nrow(knowledge)\n",
    "    knowledge %>%\n",
    "    group_by(UNS) %>%\n",
    "    summarize(count = n(),\n",
    "    percentage = n() / know_count * 100)"
   ]
  },
  {
   "cell_type": "code",
   "execution_count": 96,
   "metadata": {},
   "outputs": [
    {
     "name": "stderr",
     "output_type": "stream",
     "text": [
      "`stat_bin()` using `bins = 30`. Pick better value with `binwidth`.\n",
      "\n",
      "`stat_bin()` using `bins = 30`. Pick better value with `binwidth`.\n",
      "\n"
     ]
    },
    {
     "data": {
      "image/png": "[encoded data removed]",
      "text/plain": [
       "plot without title"
      ]
     },
     "metadata": {
      "image/png": {
       "height": 360,
       "width": 600
      }
     },
     "output_type": "display_data"
    },
    {
     "data": {
      "image/png": "[encoded data removed]",
      "text/plain": [
       "plot without title"
      ]
     },
     "metadata": {
      "image/png": {
       "height": 360,
       "width": 600
      }
     },
     "output_type": "display_data"
    }
   ],
   "source": [
    "options(repr.plot.width = 10, repr.plot.height = 6)\n",
    "STG_hist <- ggplot(knowledge, aes(x = STG)) +\n",
    "    geom_histogram(alpha = 0.5, position = \"identity\") +\n",
    "    labs(x = \"Degree of Study Time\", \n",
    "    y = \"Count\") +\n",
    "  theme(text = element_text(size = 20))\n",
    "\n",
    "STG_hist\n",
    "\n",
    "options(repr.plot.width = 10, repr.plot.height = 6)\n",
    "SCG_hist <- ggplot(knowledge, aes(x = SCG)) +\n",
    "    geom_histogram(alpha = 0.5, position = \"identity\") +\n",
    "    labs(x = \"Degree of Repetition\", \n",
    "    y = \"Count\") +\n",
    "    theme(text = element_text(size = 20))\n",
    "\n",
    "SCG_hist\n",
    "\n"
   ]
  },
  {
   "cell_type": "code",
   "execution_count": null,
   "metadata": {},
   "outputs": [],
   "source": []
  },
  {
   "cell_type": "code",
   "execution_count": null,
   "metadata": {},
   "outputs": [],
   "source": []
  },
  {
   "cell_type": "code",
   "execution_count": null,
   "metadata": {},
   "outputs": [],
   "source": []
  },
  {
   "cell_type": "markdown",
   "metadata": {},
   "source": [
    "Next, some plots were created to help visualize the data that is being explored."
   ]
  },
  {
   "cell_type": "markdown",
   "metadata": {},
   "source": [
    "First a bar graph of the number of observations from each knowledge level was created, to check if the data sufficiently represented each group. If there is too much descripancy between the quantity of each observation, then we may represent one group accurately while having an unreliable representation of the other, which could lead to skewed results."
   ]
  },
  {
   "cell_type": "code",
   "execution_count": 21,
   "metadata": {},
   "outputs": [],
   "source": [
    "processed_graph_data <- knowledge_data_df %>%\n",
    "                        select(STG, SCG, UNS)"
   ]
  },
  {
   "cell_type": "code",
   "execution_count": 29,
   "metadata": {},
   "outputs": [
    {
     "data": {
      "image/png": "[encoded data removed]",
      "text/plain": [
       "plot without title"
      ]
     },
     "metadata": {
      "image/png": {
       "height": 420,
       "width": 420
      }
     },
     "output_type": "display_data"
    }
   ],
   "source": [
    "ggplot(processed_graph_data, aes(x = UNS, color = UNS)) +\n",
    "geom_bar() +\n",
    "labs(x = \"Knowledge Level of People\", y = \"Count\")"
   ]
  },
  {
   "cell_type": "code",
   "execution_count": null,
   "metadata": {},
   "outputs": [],
   "source": []
  }
 ],
 "metadata": {
  "kernelspec": {
   "display_name": "R",
   "language": "R",
   "name": "ir"
  },
  "language_info": {
   "codemirror_mode": "r",
   "file_extension": ".r",
   "mimetype": "text/x-r-source",
   "name": "R",
   "pygments_lexer": "r",
   "version": "4.0.0"
  }
 },
 "nbformat": 4,
 "nbformat_minor": 4
}
