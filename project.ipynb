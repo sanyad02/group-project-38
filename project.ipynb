{
 "cells": [
  {
   "cell_type": "markdown",
   "metadata": {},
   "source": [
    "## Title: User Modeling System"
   ]
  },
  {
   "cell_type": "markdown",
   "metadata": {},
   "source": [
    "### Introduction"
   ]
  },
  {
   "cell_type": "markdown",
   "metadata": {},
   "source": [
    "Data modeling is one of the most powerful tools to analyze data and draw meaningful conclusions from it. To score well on a test, it is important that we use a method of study which has historically and scientifically been proven efficient. Is it better to study one night before the exam for an extended period of time or to distribute study sessions in intervals of 30-40 minutes over a couple of days?\n",
    "\n",
    "We use the data set “uns_datatable.xls” which consists of students’ educational features such as study time, repetitions, exam performance in current and pre-requisite courses, etc. The goal is to establish a relationship between a student’s educational habits and conceptual understanding. \n",
    "\n",
    "In this study, we will be investigating two different predictor variables, study time for a given objective subject, represented by STG, and the frequency of study sessions for said subject, represented by SCG, along with how they correlate with our focus variable which will be the measuring stick of a study strategy's effectiveness, as represented by UNS, or knowledge level of a given subject. A list of around 200 observations with given UNS values will be used as an imported data frame, for training data."
   ]
  },
  {
   "cell_type": "markdown",
   "metadata": {},
   "source": [
    "### Preliminary exploratory data analysis:"
   ]
  },
  {
   "cell_type": "markdown",
   "metadata": {},
   "source": [
    "First, we needed to import all of the libraries required for the research of our project:"
   ]
  },
  {
   "cell_type": "code",
   "execution_count": 41,
   "metadata": {},
   "outputs": [],
   "source": [
    "library(tidyverse)\n",
    "library(repr)\n",
    "library(tidymodels)\n",
    "library(readxl)"
   ]
  },
  {
   "cell_type": "markdown",
   "metadata": {},
   "source": [
    "Now we need to read in the required data, and wrangle it into a usable format. To do this, we need to first only read the first six columns, as the later columns are explanations of what the variable are and aren't actual data entries themselves. Also we only wish to use the training data "
   ]
  },
  {
   "cell_type": "code",
   "execution_count": 42,
   "metadata": {},
   "outputs": [],
   "source": [
    "knowledge <- read_excel(\"data/uns_datatable.xls\", sheet = \"Training_Data\", range = cell_cols(\"A:F\"))"
   ]
  },
  {
   "cell_type": "markdown",
   "metadata": {},
   "source": [
    "To further wrangle our data into a usable format, we wish to convert the last row, with only a limited number of possible options, to a factor."
   ]
  },
  {
   "cell_type": "code",
   "execution_count": 79,
   "metadata": {},
   "outputs": [],
   "source": [
    "knowledge <- mutate(knowledge_data_df, UNS = as_factor(UNS))\n",
   ]
  },
  {
   "cell_type": "markdown",
   "metadata": {},
   "source": [
    "Great, this data is tidy, each column contains one variable, each row contains one observation, and each cell contains one value. \n",
    "\n",
    "A simple legend is outlined below, to be easily referred to when more readable names are required by the various visualizations in the later steps of this project."
   ]
  },
  {
   "cell_type": "markdown",
   "metadata": {},
   "source": [
    "**Variable Legend:**\n",
    "\n",
    "STG (The degree of study time for goal object materials)\n",
    "\n",
    "SCG (The degree of repetition number of user for goal object materials)\n",
    "\n",
    "STR (The degree of study time of user for related objects with goal object)\n",
    "\n",
    "LPR (The exam performance of user for related objects with goal object)\n",
    "\n",
    "PEG (The exam performance of user for goal objects)\n",
    "\n",
    "UNS (The knowledge level of user)\n",
    "     \n",
    "Within this study, based on our chosen research question, we will actually only require usage of the following variables: the study time for the objective material (STG), the degree of repitition in the studying of said material (SCG), and the knowledge level of the person (UNS)."
   ]
  },
  {
   "cell_type": "markdown",
   "metadata": {},
   "source": [
    "For preliminary explorations, first we we will investigate the distribution of people of various different knowledge levels in the data set. This is because if one group is significantly overrepresented, their data could be much more accurate than other groups, and when paired together may yield skewed results."
   ]
  },
  {
   "cell_type": "code",
   "execution_count": 84,
   "metadata": {},
   "outputs": [
    {
     "ename": "ERROR",
     "evalue": "Error: Problem with `summarise()` input `percentage`.\n\u001b[31m✖\u001b[39m object 'num_obs' not found\n\u001b[34mℹ\u001b[39m Input `percentage` is `n()/num_obs * 100`.\n\u001b[34mℹ\u001b[39m The error occurred in group 1: UNS = \"very_low\".\n",
     "output_type": "error",
     "traceback": [
      "Error: Problem with `summarise()` input `percentage`.\n\u001b[31m✖\u001b[39m object 'num_obs' not found\n\u001b[34mℹ\u001b[39m Input `percentage` is `n()/num_obs * 100`.\n\u001b[34mℹ\u001b[39m The error occurred in group 1: UNS = \"very_low\".\nTraceback:\n",
      "1. knowledge %>% group_by(UNS) %>% summarize(count = n(), percentage = n()/num_obs * \n .     100)",
      "2. withVisible(eval(quote(`_fseq`(`_lhs`)), env, env))",
      "3. eval(quote(`_fseq`(`_lhs`)), env, env)",
      "4. eval(quote(`_fseq`(`_lhs`)), env, env)",
      "5. `_fseq`(`_lhs`)",
      "6. freduce(value, `_function_list`)",
      "7. withVisible(function_list[[k]](value))",
      "8. function_list[[k]](value)",
      "9. summarize(., count = n(), percentage = n()/num_obs * 100)",
      "10. summarise.grouped_df(., count = n(), percentage = n()/num_obs * \n  .     100)",
      "11. summarise_cols(.data, ...)",
      "12. withCallingHandlers({\n  .     for (i in seq_along(dots)) {\n  .         quo <- dots[[i]]\n  .         chunks[[i]] <- mask$eval_all_summarise(quo)\n  .         mask$across_cache_reset()\n  .         result_type <- types[[i]] <- withCallingHandlers(vec_ptype_common(!!!chunks[[i]]), \n  .             vctrs_error_incompatible_type = function(cnd) {\n  .                 abort(class = \"dplyr:::error_summarise_incompatible_combine\", \n  .                   parent = cnd)\n  .             })\n  .         if ((is.null(dots_names) || dots_names[i] == \"\") && is.data.frame(result_type)) {\n  .             map2(seq_along(result_type), names(result_type), \n  .                 function(j, nm) {\n  .                   mask$add(nm, pluck(chunks[[i]], j))\n  .                 })\n  .         }\n  .         else {\n  .             mask$add(auto_named_dots[i], chunks[[i]])\n  .         }\n  .     }\n  .     recycle_info <- .Call(dplyr_summarise_recycle_chunks, chunks, \n  .         mask$get_rows(), types)\n  .     chunks <- recycle_info$chunks\n  .     sizes <- recycle_info$sizes\n  .     for (i in seq_along(dots)) {\n  .         result <- vec_c(!!!chunks[[i]], .ptype = types[[i]])\n  .         if ((is.null(dots_names) || dots_names[i] == \"\") && is.data.frame(result)) {\n  .             cols[names(result)] <- result\n  .         }\n  .         else {\n  .             cols[[auto_named_dots[i]]] <- result\n  .         }\n  .     }\n  . }, error = function(e) {\n  .     local_call_step(dots = dots, .index = i, .fn = \"summarise\", \n  .         .dot_data = inherits(e, \"rlang_error_data_pronoun_not_found\"))\n  .     call_step <- peek_call_step()\n  .     error_name <- call_step$error_name\n  .     if (inherits(e, \"dplyr:::error_summarise_incompatible_combine\")) {\n  .         bullets <- c(x = glue(\"Input `{error_name}` must return compatible vectors across groups\", \n  .             .envir = peek_call_step()), i = cnd_bullet_combine_details(e$parent$x, \n  .             e$parent$x_arg), i = cnd_bullet_combine_details(e$parent$y, \n  .             e$parent$y_arg))\n  .     }\n  .     else if (inherits(e, \"dplyr:::summarise_unsupported_type\")) {\n  .         bullets <- c(x = glue(\"Input `{error_name}` must be a vector, not {friendly_type_of(result)}.\", \n  .             result = e$result), i = cnd_bullet_rowwise_unlist())\n  .     }\n  .     else if (inherits(e, \"dplyr:::summarise_incompatible_size\")) {\n  .         peek_mask()$set_current_group(e$group)\n  .         bullets <- c(x = glue(\"Input `{error_name}` must be size {or_1(expected_size)}, not {size}.\", \n  .             expected_size = e$expected_size, size = e$size), \n  .             i = glue(\"An earlier column had size {expected_size}.\", \n  .                 expected_size = e$expected_size))\n  .     }\n  .     else {\n  .         bullets <- c(x = conditionMessage(e))\n  .     }\n  .     bullets <- c(cnd_bullet_header(), bullets, i = cnd_bullet_input_info())\n  .     if (!inherits(e, \"dplyr:::error_summarise_incompatible_combine\")) {\n  .         bullets <- c(bullets, i = cnd_bullet_cur_group_label())\n  .     }\n  .     abort(bullets, class = \"dplyr_error\")\n  . })",
      "13. mask$eval_all_summarise(quo)",
      "14. .handleSimpleError(function (e) \n  . {\n  .     local_call_step(dots = dots, .index = i, .fn = \"summarise\", \n  .         .dot_data = inherits(e, \"rlang_error_data_pronoun_not_found\"))\n  .     call_step <- peek_call_step()\n  .     error_name <- call_step$error_name\n  .     if (inherits(e, \"dplyr:::error_summarise_incompatible_combine\")) {\n  .         bullets <- c(x = glue(\"Input `{error_name}` must return compatible vectors across groups\", \n  .             .envir = peek_call_step()), i = cnd_bullet_combine_details(e$parent$x, \n  .             e$parent$x_arg), i = cnd_bullet_combine_details(e$parent$y, \n  .             e$parent$y_arg))\n  .     }\n  .     else if (inherits(e, \"dplyr:::summarise_unsupported_type\")) {\n  .         bullets <- c(x = glue(\"Input `{error_name}` must be a vector, not {friendly_type_of(result)}.\", \n  .             result = e$result), i = cnd_bullet_rowwise_unlist())\n  .     }\n  .     else if (inherits(e, \"dplyr:::summarise_incompatible_size\")) {\n  .         peek_mask()$set_current_group(e$group)\n  .         bullets <- c(x = glue(\"Input `{error_name}` must be size {or_1(expected_size)}, not {size}.\", \n  .             expected_size = e$expected_size, size = e$size), \n  .             i = glue(\"An earlier column had size {expected_size}.\", \n  .                 expected_size = e$expected_size))\n  .     }\n  .     else {\n  .         bullets <- c(x = conditionMessage(e))\n  .     }\n  .     bullets <- c(cnd_bullet_header(), bullets, i = cnd_bullet_input_info())\n  .     if (!inherits(e, \"dplyr:::error_summarise_incompatible_combine\")) {\n  .         bullets <- c(bullets, i = cnd_bullet_cur_group_label())\n  .     }\n  .     abort(bullets, class = \"dplyr_error\")\n  . }, \"object 'num_obs' not found\", base::quote(mask$eval_all_summarise(quo)))",
      "15. h(simpleError(msg, call))",
      "16. abort(bullets, class = \"dplyr_error\")",
      "17. signal_abort(cnd)"
     ]
    }
   ],
   "source": [
    "# knowledge_data_df %>% \n",
    "# group_by(UNS) %>% \n",
    "# summarize(n = n())\n",
    "\n",
    "know_count <- nrow(knowledge)\n",
    "    knowledge %>%\n",
    "    group_by(UNS) %>%\n",
    "    summarize(count = n(),\n",
    "    percentage = n() / know_count * 100)"
   ]
  },
  {
   "cell_type": "markdown",
   "metadata": {},
   "source": [
    "The result was a fairly even distribution for each category besides for those in the \"very low\" scores category. However, this is an acceptable weakness as scorers in the very low section are already expected to be rare, and have strange properties such as studying 0 hours, as long as the other categories are represented correctly, this outlier shouldn't be too serious."
   ]
  },
  {
   "cell_type": "markdown",
   "metadata": {},
   "source": [
    "Next, some plots were created to help visualize the data that is being explored."
   ]
  },
  {
   "cell_type": "markdown",
   "metadata": {},
   "source": [
    "These histograms were used to observe the distribution of our two predictor variables STG and SCG, both of which are already standardized values from 0 to 1."
   ]
  },
  {
   "cell_type": "code",
   "execution_count": 96,
   "metadata": {},
   "outputs": [
    {
     "name": "stderr",
     "output_type": "stream",
     "text": [
      "`stat_bin()` using `bins = 30`. Pick better value with `binwidth`.\n",
      "\n",
      "`stat_bin()` using `bins = 30`. Pick better value with `binwidth`.\n",
      "\n"
     ]
    },
    {
     "data": {
      "image/png": "iVBORw0KGgoAAAANSUhEUgAABLAAAALQCAMAAAC323mdAAADAFBMVEUAAAABAQECAgIDAwME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\nAWR+lci/JguYAAAAAElFTkSuQmCC",
      "text/plain": [
       "plot without title"
      ]
     },
     "metadata": {
      "image/png": {
       "height": 360,
       "width": 600
      }
     },
     "output_type": "display_data"
    },
    {
     "data": {
      "image/png": "iVBORw0KGgoAAAANSUhEUgAABLAAAALQCAMAAAC323mdAAADAFBMVEUAAAABAQECAgIDAwME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\nAAAAAElFTkSuQmCC",
      "text/plain": [
       "plot without title"
      ]
     },
     "metadata": {
      "image/png": {
       "height": 360,
       "width": 600
      }
     },
     "output_type": "display_data"
    }
   ],
   "source": [
    "options(repr.plot.width = 10, repr.plot.height = 6)\n",
    "STG_hist <- ggplot(knowledge, aes(x = STG)) +\n",
    "    geom_histogram(alpha = 0.5, position = \"identity\") +\n",
    "    labs(x = \"Degree of Study Time\", \n",
    "    y = \"Count\") +\n",
    "  theme(text = element_text(size = 20))\n",
    "\n",
    "STG_hist\n",
    "\n",
    "options(repr.plot.width = 10, repr.plot.height = 6)\n",
    "SCG_hist <- ggplot(knowledge, aes(x = SCG)) +\n",
    "    geom_histogram(alpha = 0.5, position = \"identity\") +\n",
    "    labs(x = \"Degree of Repetition\", \n",
    "    y = \"Count\") +\n",
    "    theme(text = element_text(size = 20))\n",
    "\n",
    "SCG_hist\n",
    "\n"
   ]
  },
  {
   "cell_type": "code",
   "execution_count": null,
   "metadata": {},
   "outputs": [],
   "source": []
  },
  {
   "cell_type": "code",
   "execution_count": null,
   "metadata": {},
   "outputs": [],
   "source": []
  },
  {
   "cell_type": "code",
   "execution_count": null,
   "metadata": {},
   "outputs": [],
   "source": []
  },
  {
   "cell_type": "code",
   "execution_count": null,
   "metadata": {},
   "outputs": [],
   "source": []
  },
  {
   "cell_type": "code",
   "execution_count": null,
   "metadata": {},
   "outputs": [],
   "source": []
  }
 ],
 "metadata": {
  "kernelspec": {
   "display_name": "R",
   "language": "R",
   "name": "ir"
  },
  "language_info": {
   "codemirror_mode": "r",
   "file_extension": ".r",
   "mimetype": "text/x-r-source",
   "name": "R",
   "pygments_lexer": "r",
   "version": "4.0.0"
  }
 },
 "nbformat": 4,
 "nbformat_minor": 4
}
