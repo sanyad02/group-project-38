{
 "cells": [
  {
   "cell_type": "markdown",
   "metadata": {},
   "source": [
    "## Title: User Modeling System"
   ]
  },
  {
   "cell_type": "markdown",
   "metadata": {},
   "source": [
    "### Introduction"
   ]
  },
  {
   "cell_type": "markdown",
   "metadata": {},
   "source": [
    "Data modeling is one of the most powerful tools to analyze data and draw meaningful conclusions from it. To score well on a test, it is important that we use a method of study which has historically and scientifically been proven efficient. Is it better to study one night before the exam for an extended period of time or to distribute study sessions in intervals of 30-40 minutes over a couple of days?\n",
    "\n",
    "We use the data set “uns_datatable.xls” which consists of students’ educational features such as study time, repetitions, exam performance in current and pre-requisite courses, etc. The goal is to establish a relationship between a student’s educational habits and conceptual understanding. \n",
    "\n",
    "In this study, we will be investigating two different predictor variables, study time for a given objective subject, represented by STG, and the frequency of study sessions for said subject, represented by SCG, along with how they correlate with our focus variable which will be the measuring stick of a study strategy's effectiveness, as represented by UNS, or knowledge level of a given subject. A list of around 200 observations with given UNS values will be used as an imported data frame, for training data."
   ]
  },
  {
   "cell_type": "markdown",
   "metadata": {},
   "source": [
    "### Preliminary exploratory data analysis:"
   ]
  },
  {
   "cell_type": "markdown",
   "metadata": {},
   "source": [
    "First, we needed to import all of the libraries required for the research of our project:"
   ]
  },
  {
   "cell_type": "code",
   "execution_count": 41,
   "metadata": {},
   "outputs": [],
   "source": [
    "library(tidyverse)\n",
    "library(repr)\n",
    "library(tidymodels)\n",
    "library(readxl)"
   ]
  },
  {
   "cell_type": "markdown",
   "metadata": {},
   "source": [
    "Now we need to read in the required data, and wrangle it into a usable format. To do this, we need to first only read the first six columns, as the later columns are explanations of what the variable are and aren't actual data entries themselves. Also we only wish to use the training data "
   ]
  },
  {
   "cell_type": "code",
   "execution_count": 42,
   "metadata": {},
   "outputs": [],
   "source": [
    "knowledge <- read_excel(\"data/uns_datatable.xls\", sheet = \"Training_Data\", range = cell_cols(\"A:F\"))"
   ]
  },
  {
   "cell_type": "markdown",
   "metadata": {},
   "source": [
    "To further wrangle our data into a usable format, we wish to convert the last row, with only a limited number of possible options, to a factor."
   ]
  },
  {
   "cell_type": "code",
   "execution_count": 43,
   "metadata": {},
   "outputs": [],
   "source": [
    "knowledge <- mutate(knowledge, UNS = as_factor(UNS))"
   ]
  },
  {
   "cell_type": "markdown",
   "metadata": {},
   "source": [
    "Great, this data is tidy, each column contains one variable, each row contains one observation, and each cell contains one value. \n",
    "\n",
    "A simple legend is outlined below, to be easily referred to when more readable names are required by the various visualizations in the later steps of this project."
   ]
  },
  {
   "cell_type": "markdown",
   "metadata": {},
   "source": [
    "**Variable Legend:**\n",
    "\n",
    "STG (The degree of study time for goal object materials)\n",
    "\n",
    "SCG (The degree of repetition number of user for goal object materials)\n",
    "\n",
    "STR (The degree of study time of user for related objects with goal object)\n",
    "\n",
    "LPR (The exam performance of user for related objects with goal object)\n",
    "\n",
    "PEG (The exam performance of user for goal objects)\n",
    "\n",
    "UNS (The knowledge level of user)\n",
    "     \n",
    "Within this study, based on our chosen research question, we will actually only require usage of the following variables: the study time for the objective material (STG), the degree of repitition in the studying of said material (SCG), and the knowledge level of the person (UNS)."
   ]
  },
  {
   "cell_type": "markdown",
   "metadata": {},
   "source": [
    "For preliminary explorations, first we we will investigate the distribution of people of various different knowledge levels in the data set. This is because if one group is significantly overrepresented, their data could be much more accurate than other groups, and when paired together may yield skewed results."
   ]
  },
  {
   "cell_type": "code",
   "execution_count": 45,
   "metadata": {},
   "outputs": [
    {
     "ename": "ERROR",
     "evalue": "Error: Problem with `summarise()` input `percentage`.\n\u001b[31m✖\u001b[39m object 'num_obs' not found\n\u001b[34mℹ\u001b[39m Input `percentage` is `n()/num_obs * 100`.\n\u001b[34mℹ\u001b[39m The error occurred in group 1: UNS = \"very_low\".\n",
     "output_type": "error",
     "traceback": [
      "Error: Problem with `summarise()` input `percentage`.\n\u001b[31m✖\u001b[39m object 'num_obs' not found\n\u001b[34mℹ\u001b[39m Input `percentage` is `n()/num_obs * 100`.\n\u001b[34mℹ\u001b[39m The error occurred in group 1: UNS = \"very_low\".\nTraceback:\n",
      "1. knowledge %>% group_by(UNS) %>% summarize(count = n(), percentage = n()/num_obs * \n .     100)",
      "2. withVisible(eval(quote(`_fseq`(`_lhs`)), env, env))",
      "3. eval(quote(`_fseq`(`_lhs`)), env, env)",
      "4. eval(quote(`_fseq`(`_lhs`)), env, env)",
      "5. `_fseq`(`_lhs`)",
      "6. freduce(value, `_function_list`)",
      "7. withVisible(function_list[[k]](value))",
      "8. function_list[[k]](value)",
      "9. summarize(., count = n(), percentage = n()/num_obs * 100)",
      "10. summarise.grouped_df(., count = n(), percentage = n()/num_obs * \n  .     100)",
      "11. summarise_cols(.data, ...)",
      "12. withCallingHandlers({\n  .     for (i in seq_along(dots)) {\n  .         quo <- dots[[i]]\n  .         chunks[[i]] <- mask$eval_all_summarise(quo)\n  .         mask$across_cache_reset()\n  .         result_type <- types[[i]] <- withCallingHandlers(vec_ptype_common(!!!chunks[[i]]), \n  .             vctrs_error_incompatible_type = function(cnd) {\n  .                 abort(class = \"dplyr:::error_summarise_incompatible_combine\", \n  .                   parent = cnd)\n  .             })\n  .         if ((is.null(dots_names) || dots_names[i] == \"\") && is.data.frame(result_type)) {\n  .             map2(seq_along(result_type), names(result_type), \n  .                 function(j, nm) {\n  .                   mask$add(nm, pluck(chunks[[i]], j))\n  .                 })\n  .         }\n  .         else {\n  .             mask$add(auto_named_dots[i], chunks[[i]])\n  .         }\n  .     }\n  .     recycle_info <- .Call(dplyr_summarise_recycle_chunks, chunks, \n  .         mask$get_rows(), types)\n  .     chunks <- recycle_info$chunks\n  .     sizes <- recycle_info$sizes\n  .     for (i in seq_along(dots)) {\n  .         result <- vec_c(!!!chunks[[i]], .ptype = types[[i]])\n  .         if ((is.null(dots_names) || dots_names[i] == \"\") && is.data.frame(result)) {\n  .             cols[names(result)] <- result\n  .         }\n  .         else {\n  .             cols[[auto_named_dots[i]]] <- result\n  .         }\n  .     }\n  . }, error = function(e) {\n  .     local_call_step(dots = dots, .index = i, .fn = \"summarise\", \n  .         .dot_data = inherits(e, \"rlang_error_data_pronoun_not_found\"))\n  .     call_step <- peek_call_step()\n  .     error_name <- call_step$error_name\n  .     if (inherits(e, \"dplyr:::error_summarise_incompatible_combine\")) {\n  .         bullets <- c(x = glue(\"Input `{error_name}` must return compatible vectors across groups\", \n  .             .envir = peek_call_step()), i = cnd_bullet_combine_details(e$parent$x, \n  .             e$parent$x_arg), i = cnd_bullet_combine_details(e$parent$y, \n  .             e$parent$y_arg))\n  .     }\n  .     else if (inherits(e, \"dplyr:::summarise_unsupported_type\")) {\n  .         bullets <- c(x = glue(\"Input `{error_name}` must be a vector, not {friendly_type_of(result)}.\", \n  .             result = e$result), i = cnd_bullet_rowwise_unlist())\n  .     }\n  .     else if (inherits(e, \"dplyr:::summarise_incompatible_size\")) {\n  .         peek_mask()$set_current_group(e$group)\n  .         bullets <- c(x = glue(\"Input `{error_name}` must be size {or_1(expected_size)}, not {size}.\", \n  .             expected_size = e$expected_size, size = e$size), \n  .             i = glue(\"An earlier column had size {expected_size}.\", \n  .                 expected_size = e$expected_size))\n  .     }\n  .     else {\n  .         bullets <- c(x = conditionMessage(e))\n  .     }\n  .     bullets <- c(cnd_bullet_header(), bullets, i = cnd_bullet_input_info())\n  .     if (!inherits(e, \"dplyr:::error_summarise_incompatible_combine\")) {\n  .         bullets <- c(bullets, i = cnd_bullet_cur_group_label())\n  .     }\n  .     abort(bullets, class = \"dplyr_error\")\n  . })",
      "13. mask$eval_all_summarise(quo)",
      "14. .handleSimpleError(function (e) \n  . {\n  .     local_call_step(dots = dots, .index = i, .fn = \"summarise\", \n  .         .dot_data = inherits(e, \"rlang_error_data_pronoun_not_found\"))\n  .     call_step <- peek_call_step()\n  .     error_name <- call_step$error_name\n  .     if (inherits(e, \"dplyr:::error_summarise_incompatible_combine\")) {\n  .         bullets <- c(x = glue(\"Input `{error_name}` must return compatible vectors across groups\", \n  .             .envir = peek_call_step()), i = cnd_bullet_combine_details(e$parent$x, \n  .             e$parent$x_arg), i = cnd_bullet_combine_details(e$parent$y, \n  .             e$parent$y_arg))\n  .     }\n  .     else if (inherits(e, \"dplyr:::summarise_unsupported_type\")) {\n  .         bullets <- c(x = glue(\"Input `{error_name}` must be a vector, not {friendly_type_of(result)}.\", \n  .             result = e$result), i = cnd_bullet_rowwise_unlist())\n  .     }\n  .     else if (inherits(e, \"dplyr:::summarise_incompatible_size\")) {\n  .         peek_mask()$set_current_group(e$group)\n  .         bullets <- c(x = glue(\"Input `{error_name}` must be size {or_1(expected_size)}, not {size}.\", \n  .             expected_size = e$expected_size, size = e$size), \n  .             i = glue(\"An earlier column had size {expected_size}.\", \n  .                 expected_size = e$expected_size))\n  .     }\n  .     else {\n  .         bullets <- c(x = conditionMessage(e))\n  .     }\n  .     bullets <- c(cnd_bullet_header(), bullets, i = cnd_bullet_input_info())\n  .     if (!inherits(e, \"dplyr:::error_summarise_incompatible_combine\")) {\n  .         bullets <- c(bullets, i = cnd_bullet_cur_group_label())\n  .     }\n  .     abort(bullets, class = \"dplyr_error\")\n  . }, \"object 'num_obs' not found\", base::quote(mask$eval_all_summarise(quo)))",
      "15. h(simpleError(msg, call))",
      "16. abort(bullets, class = \"dplyr_error\")",
      "17. signal_abort(cnd)"
     ]
    }
   ],
   "source": [
    "# knowledge_data_df %>% \n",
    "# group_by(UNS) %>% \n",
    "# summarize(n = n())\n",
    "\n",
    "know_count <- nrow(knowledge)\n",
    "    knowledge %>%\n",
    "    group_by(UNS) %>%\n",
    "    summarize(count = n(),\n",
    "    percentage = n() / num_obs * 100)"
   ]
  },
  {
   "cell_type": "markdown",
   "metadata": {},
   "source": [
    "The result was a fairly even distribution for each category besides for those in the \"very low\" scores category. However, this is an acceptable weakness as scorers in the very low section are already expected to be rare, and have strange properties such as studying 0 hours, as long as the other categories are represented correctly, this outlier shouldn't be too serious."
   ]
  },
  {
   "cell_type": "markdown",
   "metadata": {},
   "source": [
    "Next, some plots were created to help visualize the data that is being explored."
   ]
  },
  {
   "cell_type": "markdown",
   "metadata": {},
   "source": [
    "These histograms were used to observe the distribution of our two predictor variables STG and SCG, both of which are already standardized values from 0 to 1."
   ]
  },
  {
   "cell_type": "code",
   "execution_count": 47,
   "metadata": {},
   "outputs": [
    {
     "name": "stderr",
     "output_type": "stream",
     "text": [
      "`stat_bin()` using `bins = 30`. Pick better value with `binwidth`.\n",
      "\n",
      "`stat_bin()` using `bins = 30`. Pick better value with `binwidth`.\n",
      "\n"
     ]
    },
    {
     "data": {
      "image/png": "[encoded data removed]",
      "text/plain": [
       "plot without title"
      ]
     },
     "metadata": {
      "image/png": {
       "height": 420,
       "width": 420
      }
     },
     "output_type": "display_data"
    },
    {
     "data": {
      "image/png": "[encoded data removed]",
      "text/plain": [
       "plot without title"
      ]
     },
     "metadata": {
      "image/png": {
       "height": 420,
       "width": 420
      }
     },
     "output_type": "display_data"
    }
   ],
   "source": [
    "\n",
    "STG_hist <- ggplot(knowledge, aes(x = STG)) +\n",
    "  geom_histogram(alpha = 0.5, position = \"identity\")\n",
    "\n",
    "STG_hist\n",
    "\n",
    "SCG_hist <- ggplot(knowledge, aes(x = SCG)) +\n",
    "  geom_histogram(alpha = 0.5, position = \"identity\")\n",
    "\n",
    "SCG_hist\n",
    "\n"
   ]
  },
  {
   "cell_type": "code",
   "execution_count": null,
   "metadata": {},
   "outputs": [],
   "source": []
  },
  {
   "cell_type": "code",
   "execution_count": null,
   "metadata": {},
   "outputs": [],
   "source": []
  },
  {
   "cell_type": "code",
   "execution_count": null,
   "metadata": {},
   "outputs": [],
   "source": []
  },
  {
   "cell_type": "code",
   "execution_count": null,
   "metadata": {},
   "outputs": [],
   "source": []
  },
  {
   "cell_type": "code",
   "execution_count": null,
   "metadata": {},
   "outputs": [],
   "source": []
  }
 ],
 "metadata": {
  "kernelspec": {
   "display_name": "R",
   "language": "R",
   "name": "ir"
  },
  "language_info": {
   "codemirror_mode": "r",
   "file_extension": ".r",
   "mimetype": "text/x-r-source",
   "name": "R",
   "pygments_lexer": "r",
   "version": "4.0.0"
  }
 },
 "nbformat": 4,
 "nbformat_minor": 4
}
